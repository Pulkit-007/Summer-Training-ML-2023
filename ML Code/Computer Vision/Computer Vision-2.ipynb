{
 "cells": [
  {
   "cell_type": "code",
   "execution_count": 1,
   "id": "fca8dbf1",
   "metadata": {},
   "outputs": [],
   "source": [
    "import cv2"
   ]
  },
  {
   "cell_type": "code",
   "execution_count": 30,
   "id": "d9b8d4a8",
   "metadata": {},
   "outputs": [],
   "source": [
    "#cap=cv2.VideoCapture(\"http://192.168.29.185:8080/video\")\n",
    "cap=cv2.VideoCapture(0)"
   ]
  },
  {
   "cell_type": "code",
   "execution_count": 31,
   "id": "e9ea2c00",
   "metadata": {},
   "outputs": [],
   "source": [
    "status,photo=cap.read()"
   ]
  },
  {
   "cell_type": "code",
   "execution_count": 45,
   "id": "0a7a5650",
   "metadata": {},
   "outputs": [],
   "source": [
    "grayphoto = cv2.cvtColor(photo , cv2.COLOR_BGR2GRAY )"
   ]
  },
  {
   "cell_type": "code",
   "execution_count": 46,
   "id": "d7c56471",
   "metadata": {},
   "outputs": [
    {
     "data": {
      "text/plain": [
       "array([[42, 43, 43, ..., 48, 48, 50],\n",
       "       [42, 43, 44, ..., 48, 48, 50],\n",
       "       [42, 44, 44, ..., 49, 48, 50],\n",
       "       ...,\n",
       "       [30, 30, 30, ..., 36, 36, 37],\n",
       "       [29, 29, 29, ..., 36, 36, 36],\n",
       "       [30, 29, 28, ..., 36, 35, 36]], dtype=uint8)"
      ]
     },
     "execution_count": 46,
     "metadata": {},
     "output_type": "execute_result"
    }
   ],
   "source": [
    "grayphoto"
   ]
  },
  {
   "cell_type": "code",
   "execution_count": 47,
   "id": "ea6e5bb1",
   "metadata": {},
   "outputs": [],
   "source": [
    "cv2.imshow(\"Hi\",grayphoto)\n",
    "cv2.waitKey()\n",
    "cv2.destroyAllWindows()"
   ]
  },
  {
   "cell_type": "code",
   "execution_count": 48,
   "id": "1a019bf6",
   "metadata": {},
   "outputs": [
    {
     "data": {
      "text/plain": [
       "2"
      ]
     },
     "execution_count": 48,
     "metadata": {},
     "output_type": "execute_result"
    }
   ],
   "source": [
    "grayphoto.ndim"
   ]
  },
  {
   "cell_type": "code",
   "execution_count": 32,
   "id": "34b138ff",
   "metadata": {},
   "outputs": [
    {
     "data": {
      "text/plain": [
       "True"
      ]
     },
     "execution_count": 32,
     "metadata": {},
     "output_type": "execute_result"
    }
   ],
   "source": [
    "status"
   ]
  },
  {
   "cell_type": "code",
   "execution_count": 5,
   "id": "57da89b8",
   "metadata": {},
   "outputs": [],
   "source": [
    "cv2.imshow(\"Hi\",photo)\n",
    "cv2.waitKey()\n",
    "cv2.destroyAllWindows()"
   ]
  },
  {
   "cell_type": "code",
   "execution_count": 7,
   "id": "fadd530c",
   "metadata": {},
   "outputs": [],
   "source": [
    "while True:\n",
    "    status,photo=cap.read()\n",
    "    cv2.imshow(\"Hi\",photo)\n",
    "    if cv2.waitKey(10)==13:\n",
    "        break\n",
    "cv2.destroyAllWindows()"
   ]
  },
  {
   "cell_type": "code",
   "execution_count": 8,
   "id": "2ab5aed6",
   "metadata": {},
   "outputs": [
    {
     "data": {
      "text/plain": [
       "array([[[107, 135, 121],\n",
       "        [110, 131, 124],\n",
       "        [121, 135, 136],\n",
       "        ...,\n",
       "        [143, 155, 159],\n",
       "        [145, 156, 160],\n",
       "        [150, 161, 164]],\n",
       "\n",
       "       [[113, 138, 127],\n",
       "        [117, 137, 129],\n",
       "        [121, 136, 132],\n",
       "        ...,\n",
       "        [150, 154, 159],\n",
       "        [149, 153, 157],\n",
       "        [155, 159, 163]],\n",
       "\n",
       "       [[116, 139, 130],\n",
       "        [118, 137, 129],\n",
       "        [129, 144, 138],\n",
       "        ...,\n",
       "        [152, 153, 156],\n",
       "        [155, 154, 157],\n",
       "        [161, 160, 162]],\n",
       "\n",
       "       ...,\n",
       "\n",
       "       [[ 93, 104, 105],\n",
       "        [ 84,  94,  94],\n",
       "        [ 85,  94,  93],\n",
       "        ...,\n",
       "        [ 90, 109, 117],\n",
       "        [ 89, 109, 114],\n",
       "        [ 89, 109, 113]],\n",
       "\n",
       "       [[ 92, 100, 102],\n",
       "        [ 86,  94,  94],\n",
       "        [ 87,  94,  93],\n",
       "        ...,\n",
       "        [ 92, 109, 117],\n",
       "        [ 91, 108, 115],\n",
       "        [ 91, 108, 115]],\n",
       "\n",
       "       [[ 89,  98, 100],\n",
       "        [ 87,  95,  95],\n",
       "        [ 83,  90,  90],\n",
       "        ...,\n",
       "        [ 89, 107, 118],\n",
       "        [ 90, 109, 118],\n",
       "        [ 90, 109, 118]]], dtype=uint8)"
      ]
     },
     "execution_count": 8,
     "metadata": {},
     "output_type": "execute_result"
    }
   ],
   "source": [
    "photo"
   ]
  },
  {
   "cell_type": "code",
   "execution_count": 9,
   "id": "5ecd177d",
   "metadata": {},
   "outputs": [
    {
     "data": {
      "text/plain": [
       "3"
      ]
     },
     "execution_count": 9,
     "metadata": {},
     "output_type": "execute_result"
    }
   ],
   "source": [
    "photo.ndim"
   ]
  },
  {
   "cell_type": "code",
   "execution_count": 22,
   "id": "034b8e90",
   "metadata": {},
   "outputs": [
    {
     "data": {
      "text/plain": [
       "array([146, 151, 150], dtype=uint8)"
      ]
     },
     "execution_count": 22,
     "metadata": {},
     "output_type": "execute_result"
    }
   ],
   "source": [
    "photo[10,30]"
   ]
  },
  {
   "cell_type": "code",
   "execution_count": 23,
   "id": "a6e41adb",
   "metadata": {},
   "outputs": [
    {
     "data": {
      "text/plain": [
       "145"
      ]
     },
     "execution_count": 23,
     "metadata": {},
     "output_type": "execute_result"
    }
   ],
   "source": [
    "photo[30,10,2]"
   ]
  },
  {
   "cell_type": "code",
   "execution_count": 24,
   "id": "c47ae8ee",
   "metadata": {},
   "outputs": [],
   "source": [
    "photo[30,10,0:2]=0"
   ]
  },
  {
   "cell_type": "code",
   "execution_count": 25,
   "id": "daed1926",
   "metadata": {},
   "outputs": [
    {
     "data": {
      "text/plain": [
       "array([  0,   0, 145], dtype=uint8)"
      ]
     },
     "execution_count": 25,
     "metadata": {},
     "output_type": "execute_result"
    }
   ],
   "source": [
    "photo[30,10]"
   ]
  },
  {
   "cell_type": "code",
   "execution_count": 33,
   "id": "3f2bf44f",
   "metadata": {},
   "outputs": [],
   "source": [
    "photo[: ,: , 0:2]=0"
   ]
  },
  {
   "cell_type": "code",
   "execution_count": 34,
   "id": "382ac737",
   "metadata": {},
   "outputs": [
    {
     "data": {
      "text/plain": [
       "array([[[  0,   0, 139],\n",
       "        [  0,   0, 144],\n",
       "        [  0,   0, 144],\n",
       "        ...,\n",
       "        [  0,   0, 161],\n",
       "        [  0,   0, 162],\n",
       "        [  0,   0, 167]],\n",
       "\n",
       "       [[  0,   0, 140],\n",
       "        [  0,   0, 144],\n",
       "        [  0,   0, 146],\n",
       "        ...,\n",
       "        [  0,   0, 161],\n",
       "        [  0,   0, 162],\n",
       "        [  0,   0, 167]],\n",
       "\n",
       "       [[  0,   0, 141],\n",
       "        [  0,   0, 146],\n",
       "        [  0,   0, 146],\n",
       "        ...,\n",
       "        [  0,   0, 163],\n",
       "        [  0,   0, 162],\n",
       "        [  0,   0, 166]],\n",
       "\n",
       "       ...,\n",
       "\n",
       "       [[  0,   0,  99],\n",
       "        [  0,   0,  99],\n",
       "        [  0,   0, 101],\n",
       "        ...,\n",
       "        [  0,   0, 121],\n",
       "        [  0,   0, 122],\n",
       "        [  0,   0, 124]],\n",
       "\n",
       "       [[  0,   0,  98],\n",
       "        [  0,   0,  96],\n",
       "        [  0,   0,  97],\n",
       "        ...,\n",
       "        [  0,   0, 120],\n",
       "        [  0,   0, 119],\n",
       "        [  0,   0, 119]],\n",
       "\n",
       "       [[  0,   0,  99],\n",
       "        [  0,   0,  97],\n",
       "        [  0,   0,  95],\n",
       "        ...,\n",
       "        [  0,   0, 120],\n",
       "        [  0,   0, 118],\n",
       "        [  0,   0, 119]]], dtype=uint8)"
      ]
     },
     "execution_count": 34,
     "metadata": {},
     "output_type": "execute_result"
    }
   ],
   "source": [
    "photo"
   ]
  },
  {
   "cell_type": "code",
   "execution_count": 42,
   "id": "6b6b0926",
   "metadata": {},
   "outputs": [],
   "source": [
    "cv2.imshow(\"Hi\",photo)\n",
    "cv2.waitKey()\n",
    "cv2.destroyAllWindows()"
   ]
  },
  {
   "cell_type": "code",
   "execution_count": 43,
   "id": "350cd52e",
   "metadata": {},
   "outputs": [
    {
     "data": {
      "text/plain": [
       "array([[50, 50, 50, ..., 50, 50, 50],\n",
       "       [50, 50, 50, ..., 50, 50, 50],\n",
       "       [50, 50, 50, ..., 50, 50, 50],\n",
       "       ...,\n",
       "       [50, 50, 50, ..., 50, 50, 50],\n",
       "       [50, 50, 50, ..., 50, 50, 50],\n",
       "       [50, 50, 50, ..., 50, 50, 50]], dtype=uint8)"
      ]
     },
     "execution_count": 43,
     "metadata": {},
     "output_type": "execute_result"
    }
   ],
   "source": [
    "photo[: ,: , 0]+50"
   ]
  },
  {
   "cell_type": "code",
   "execution_count": 44,
   "id": "ecf29723",
   "metadata": {},
   "outputs": [],
   "source": []
  },
  {
   "cell_type": "code",
   "execution_count": null,
   "id": "1169ef9a",
   "metadata": {},
   "outputs": [],
   "source": []
  },
  {
   "cell_type": "code",
   "execution_count": 10,
   "id": "62f34bec",
   "metadata": {},
   "outputs": [],
   "source": [
    "import numpy"
   ]
  },
  {
   "cell_type": "code",
   "execution_count": 11,
   "id": "613d90f3",
   "metadata": {},
   "outputs": [],
   "source": [
    "a=numpy.array([1,2,3,4])"
   ]
  },
  {
   "cell_type": "code",
   "execution_count": 12,
   "id": "add8f594",
   "metadata": {},
   "outputs": [
    {
     "data": {
      "text/plain": [
       "1"
      ]
     },
     "execution_count": 12,
     "metadata": {},
     "output_type": "execute_result"
    }
   ],
   "source": [
    "a.ndim"
   ]
  },
  {
   "cell_type": "code",
   "execution_count": 13,
   "id": "49f6efd9",
   "metadata": {},
   "outputs": [
    {
     "data": {
      "text/plain": [
       "array([2, 3, 4])"
      ]
     },
     "execution_count": 13,
     "metadata": {},
     "output_type": "execute_result"
    }
   ],
   "source": [
    "a[1:4]"
   ]
  },
  {
   "cell_type": "code",
   "execution_count": 14,
   "id": "b1abd1da",
   "metadata": {},
   "outputs": [],
   "source": [
    "a[1:4]=100"
   ]
  },
  {
   "cell_type": "code",
   "execution_count": 15,
   "id": "125b89d1",
   "metadata": {},
   "outputs": [
    {
     "data": {
      "text/plain": [
       "array([  1, 100, 100, 100])"
      ]
     },
     "execution_count": 15,
     "metadata": {},
     "output_type": "execute_result"
    }
   ],
   "source": [
    "a"
   ]
  },
  {
   "cell_type": "code",
   "execution_count": 16,
   "id": "76cd30cd",
   "metadata": {},
   "outputs": [],
   "source": [
    "b=numpy.array([\n",
    "    [1,10,100],\n",
    "    [2,20,200],\n",
    "    [3,30,300],\n",
    "    [4,40,400]\n",
    "])"
   ]
  },
  {
   "cell_type": "code",
   "execution_count": 17,
   "id": "61014599",
   "metadata": {},
   "outputs": [
    {
     "data": {
      "text/plain": [
       "2"
      ]
     },
     "execution_count": 17,
     "metadata": {},
     "output_type": "execute_result"
    }
   ],
   "source": [
    "b.ndim"
   ]
  },
  {
   "cell_type": "code",
   "execution_count": 18,
   "id": "461b093b",
   "metadata": {},
   "outputs": [
    {
     "data": {
      "text/plain": [
       "(4, 3)"
      ]
     },
     "execution_count": 18,
     "metadata": {},
     "output_type": "execute_result"
    }
   ],
   "source": [
    "b.shape"
   ]
  },
  {
   "cell_type": "code",
   "execution_count": 20,
   "id": "43704d3a",
   "metadata": {},
   "outputs": [],
   "source": [
    "b[1:3,1:3]=5"
   ]
  },
  {
   "cell_type": "code",
   "execution_count": 21,
   "id": "d37618e6",
   "metadata": {},
   "outputs": [
    {
     "data": {
      "text/plain": [
       "array([[  1,  10, 100],\n",
       "       [  2,   5,   5],\n",
       "       [  3,   5,   5],\n",
       "       [  4,  40, 400]])"
      ]
     },
     "execution_count": 21,
     "metadata": {},
     "output_type": "execute_result"
    }
   ],
   "source": [
    "b"
   ]
  },
  {
   "cell_type": "code",
   "execution_count": null,
   "id": "d11564af",
   "metadata": {},
   "outputs": [],
   "source": []
  },
  {
   "cell_type": "code",
   "execution_count": null,
   "id": "4693a170",
   "metadata": {},
   "outputs": [],
   "source": []
  },
  {
   "cell_type": "code",
   "execution_count": null,
   "id": "001119e1",
   "metadata": {},
   "outputs": [],
   "source": []
  }
 ],
 "metadata": {
  "kernelspec": {
   "display_name": "Python 3 (ipykernel)",
   "language": "python",
   "name": "python3"
  },
  "language_info": {
   "codemirror_mode": {
    "name": "ipython",
    "version": 3
   },
   "file_extension": ".py",
   "mimetype": "text/x-python",
   "name": "python",
   "nbconvert_exporter": "python",
   "pygments_lexer": "ipython3",
   "version": "3.10.9"
  }
 },
 "nbformat": 4,
 "nbformat_minor": 5
}
