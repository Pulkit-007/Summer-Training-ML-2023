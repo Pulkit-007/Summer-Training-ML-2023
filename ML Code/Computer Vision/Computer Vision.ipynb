{
 "cells": [
  {
   "cell_type": "code",
   "execution_count": 6,
   "id": "9ccf18dc",
   "metadata": {},
   "outputs": [],
   "source": [
    "import cv2"
   ]
  },
  {
   "cell_type": "code",
   "execution_count": 7,
   "id": "a6ed2fc8",
   "metadata": {},
   "outputs": [],
   "source": [
    "cap = cv2.VideoCapture(0)"
   ]
  },
  {
   "cell_type": "code",
   "execution_count": 8,
   "id": "a7a5d21b",
   "metadata": {},
   "outputs": [],
   "source": [
    "status, photo=cap.read()"
   ]
  },
  {
   "cell_type": "code",
   "execution_count": 9,
   "id": "229604d2",
   "metadata": {},
   "outputs": [],
   "source": [
    "x=5"
   ]
  },
  {
   "cell_type": "code",
   "execution_count": 10,
   "id": "9ec69107",
   "metadata": {},
   "outputs": [],
   "source": [
    "y=10"
   ]
  },
  {
   "cell_type": "code",
   "execution_count": 11,
   "id": "0b5dfc7d",
   "metadata": {},
   "outputs": [],
   "source": [
    "a,b=x,y   #multi value assignment in single statement"
   ]
  },
  {
   "cell_type": "code",
   "execution_count": 12,
   "id": "df1b88a0",
   "metadata": {},
   "outputs": [
    {
     "data": {
      "text/plain": [
       "5"
      ]
     },
     "execution_count": 12,
     "metadata": {},
     "output_type": "execute_result"
    }
   ],
   "source": [
    "a\n"
   ]
  },
  {
   "cell_type": "code",
   "execution_count": 13,
   "id": "b1c181b3",
   "metadata": {},
   "outputs": [
    {
     "data": {
      "text/plain": [
       "10"
      ]
     },
     "execution_count": 13,
     "metadata": {},
     "output_type": "execute_result"
    }
   ],
   "source": [
    "b"
   ]
  },
  {
   "cell_type": "code",
   "execution_count": 14,
   "id": "8167b41f",
   "metadata": {},
   "outputs": [
    {
     "data": {
      "text/plain": [
       "True"
      ]
     },
     "execution_count": 14,
     "metadata": {},
     "output_type": "execute_result"
    }
   ],
   "source": [
    "status"
   ]
  },
  {
   "cell_type": "code",
   "execution_count": 15,
   "id": "fe65fbd8",
   "metadata": {},
   "outputs": [
    {
     "data": {
      "text/plain": [
       "True"
      ]
     },
     "execution_count": 15,
     "metadata": {},
     "output_type": "execute_result"
    }
   ],
   "source": [
    " cv2.imwrite(\"pulkit.png\",photo)"
   ]
  },
  {
   "cell_type": "code",
   "execution_count": 16,
   "id": "18549e7b",
   "metadata": {},
   "outputs": [],
   "source": [
    "cv2.imshow(\"my photo\",photo)\n",
    "#cv2.waitKey()\n",
    "if cv2.waitKey()==27:\n",
    "    cv2.destroyAllWindows()"
   ]
  },
  {
   "cell_type": "code",
   "execution_count": 17,
   "id": "25076bd6",
   "metadata": {},
   "outputs": [
    {
     "data": {
      "text/plain": [
       "array([[[16, 10,  4],\n",
       "        [17, 11,  5],\n",
       "        [17, 11,  5],\n",
       "        ...,\n",
       "        [38, 18,  2],\n",
       "        [32, 18,  1],\n",
       "        [31, 18,  1]],\n",
       "\n",
       "       [[16, 10,  4],\n",
       "        [17, 11,  5],\n",
       "        [17, 11,  5],\n",
       "        ...,\n",
       "        [38, 18,  2],\n",
       "        [34, 18,  1],\n",
       "        [34, 18,  1]],\n",
       "\n",
       "       [[16, 10,  4],\n",
       "        [17, 11,  5],\n",
       "        [17, 11,  5],\n",
       "        ...,\n",
       "        [39, 18,  2],\n",
       "        [38, 17,  1],\n",
       "        [38, 17,  1]],\n",
       "\n",
       "       ...,\n",
       "\n",
       "       [[25, 12,  2],\n",
       "        [25, 11,  2],\n",
       "        [25, 11,  3],\n",
       "        ...,\n",
       "        [15,  8,  2],\n",
       "        [15,  8,  2],\n",
       "        [15,  8,  2]],\n",
       "\n",
       "       [[25, 11,  3],\n",
       "        [25, 11,  3],\n",
       "        [25, 11,  3],\n",
       "        ...,\n",
       "        [15,  8,  2],\n",
       "        [15,  8,  2],\n",
       "        [15,  8,  2]],\n",
       "\n",
       "       [[25, 11,  3],\n",
       "        [25, 11,  3],\n",
       "        [25, 11,  3],\n",
       "        ...,\n",
       "        [15,  8,  2],\n",
       "        [15,  8,  2],\n",
       "        [15,  8,  2]]], dtype=uint8)"
      ]
     },
     "execution_count": 17,
     "metadata": {},
     "output_type": "execute_result"
    }
   ],
   "source": [
    "photo"
   ]
  },
  {
   "cell_type": "code",
   "execution_count": 18,
   "id": "43a1a02e",
   "metadata": {},
   "outputs": [
    {
     "data": {
      "text/plain": [
       "numpy.ndarray"
      ]
     },
     "execution_count": 18,
     "metadata": {},
     "output_type": "execute_result"
    }
   ],
   "source": [
    "type(photo)"
   ]
  },
  {
   "cell_type": "code",
   "execution_count": 19,
   "id": "9467ba41",
   "metadata": {},
   "outputs": [
    {
     "data": {
      "text/plain": [
       "(480, 640, 3)"
      ]
     },
     "execution_count": 19,
     "metadata": {},
     "output_type": "execute_result"
    }
   ],
   "source": [
    "photo.shape"
   ]
  },
  {
   "cell_type": "code",
   "execution_count": 20,
   "id": "8b6a1748",
   "metadata": {},
   "outputs": [
    {
     "data": {
      "text/plain": [
       "3"
      ]
     },
     "execution_count": 20,
     "metadata": {},
     "output_type": "execute_result"
    }
   ],
   "source": [
    "photo.ndim"
   ]
  },
  {
   "cell_type": "code",
   "execution_count": 21,
   "id": "02445587",
   "metadata": {},
   "outputs": [
    {
     "data": {
      "text/plain": [
       "2"
      ]
     },
     "execution_count": 21,
     "metadata": {},
     "output_type": "execute_result"
    }
   ],
   "source": [
    "a=[1,2,3]\n",
    "a[1]"
   ]
  },
  {
   "cell_type": "code",
   "execution_count": 22,
   "id": "920980f5",
   "metadata": {},
   "outputs": [
    {
     "data": {
      "text/plain": [
       "array([[15,  9,  5],\n",
       "       [12,  8,  3],\n",
       "       [11,  8,  3],\n",
       "       ...,\n",
       "       [36, 14,  2],\n",
       "       [36, 14,  2],\n",
       "       [36, 14,  2]], dtype=uint8)"
      ]
     },
     "execution_count": 22,
     "metadata": {},
     "output_type": "execute_result"
    }
   ],
   "source": [
    "photo[100]"
   ]
  },
  {
   "cell_type": "code",
   "execution_count": 23,
   "id": "644a4bcf",
   "metadata": {},
   "outputs": [],
   "source": [
    "photo[100]=[0,255,0]"
   ]
  },
  {
   "cell_type": "code",
   "execution_count": 24,
   "id": "cc70ec2c",
   "metadata": {},
   "outputs": [],
   "source": [
    "photo[200]=[0,0,255]"
   ]
  },
  {
   "cell_type": "code",
   "execution_count": 25,
   "id": "d63c2382",
   "metadata": {},
   "outputs": [],
   "source": [
    "newphoto=photo[100:250,200:450]"
   ]
  },
  {
   "cell_type": "code",
   "execution_count": 26,
   "id": "c651f1bf",
   "metadata": {},
   "outputs": [],
   "source": [
    "photo[0:150,0:250]=photo[100:250,200:450]"
   ]
  },
  {
   "cell_type": "code",
   "execution_count": 27,
   "id": "6c1196ce",
   "metadata": {},
   "outputs": [],
   "source": [
    "cv2.imshow(\"my photo\",newphoto)\n",
    "cv2.waitKey()\n",
    "cv2.destroyAllWindows()"
   ]
  },
  {
   "cell_type": "code",
   "execution_count": 28,
   "id": "4c9cbafe",
   "metadata": {},
   "outputs": [],
   "source": [
    "B, G, R=cv2.split(photo)"
   ]
  },
  {
   "cell_type": "code",
   "execution_count": 29,
   "id": "8923f260",
   "metadata": {},
   "outputs": [
    {
     "data": {
      "text/plain": [
       "array([[ 0,  0,  0, ..., 38, 32, 31],\n",
       "       [21, 21, 21, ..., 38, 34, 34],\n",
       "       [21, 21, 21, ..., 39, 38, 38],\n",
       "       ...,\n",
       "       [25, 25, 25, ..., 15, 15, 15],\n",
       "       [25, 25, 25, ..., 15, 15, 15],\n",
       "       [25, 25, 25, ..., 15, 15, 15]], dtype=uint8)"
      ]
     },
     "execution_count": 29,
     "metadata": {},
     "output_type": "execute_result"
    }
   ],
   "source": [
    "B"
   ]
  },
  {
   "cell_type": "code",
   "execution_count": 30,
   "id": "4cb26850",
   "metadata": {},
   "outputs": [],
   "source": [
    "cv2.imshow(\"my photo\",B)\n",
    "cv2.waitKey()\n",
    "cv2.destroyAllWindows()"
   ]
  },
  {
   "cell_type": "code",
   "execution_count": 31,
   "id": "9b1f4ac1",
   "metadata": {},
   "outputs": [],
   "source": [
    "a=[1,2,3,4,5,6]"
   ]
  },
  {
   "cell_type": "code",
   "execution_count": 32,
   "id": "fd89c2a6",
   "metadata": {},
   "outputs": [
    {
     "data": {
      "text/plain": [
       "[4, 5, 6]"
      ]
     },
     "execution_count": 32,
     "metadata": {},
     "output_type": "execute_result"
    }
   ],
   "source": [
    "a[3:6]"
   ]
  },
  {
   "cell_type": "code",
   "execution_count": 33,
   "id": "04f4a4d0",
   "metadata": {},
   "outputs": [],
   "source": [
    "a[0:3]=a[3:6]"
   ]
  },
  {
   "cell_type": "code",
   "execution_count": 34,
   "id": "903f59e4",
   "metadata": {},
   "outputs": [
    {
     "data": {
      "text/plain": [
       "[4, 5, 6, 4, 5, 6]"
      ]
     },
     "execution_count": 34,
     "metadata": {},
     "output_type": "execute_result"
    }
   ],
   "source": [
    "a"
   ]
  },
  {
   "cell_type": "code",
   "execution_count": 35,
   "id": "eb9c87ec",
   "metadata": {},
   "outputs": [],
   "source": [
    "#while True:\n",
    "#   status, photo=cap.read()\n",
    "#   cv2.imshow(\"my photo\",photo)\n",
    "#   cv2.waitKey(100)\n",
    "#cv2.destroyAllWindows()"
   ]
  },
  {
   "cell_type": "code",
   "execution_count": 46,
   "id": "a99fe2db",
   "metadata": {},
   "outputs": [],
   "source": [
    "while True:\n",
    "    status, photo=cap.read()\n",
    "    #newphoto=photo[100:250,200:450]\n",
    "    #photo[0:150,0:250]=photo[100:250,200:450]\n",
    "    photo[:,:,1]=+50\n",
    "    cv2.imshow(\"my photo\",photo)\n",
    "    if cv2.waitKey(10)==13:\n",
    "        break\n",
    "cv2.destroyAllWindows()"
   ]
  },
  {
   "cell_type": "code",
   "execution_count": 37,
   "id": "d29f7db0",
   "metadata": {},
   "outputs": [],
   "source": [
    "a=[1,2,3,4,5,6]\n",
    "a[0]+=3"
   ]
  },
  {
   "cell_type": "code",
   "execution_count": 38,
   "id": "8209c2ec",
   "metadata": {},
   "outputs": [
    {
     "data": {
      "text/plain": [
       "[4, 2, 3, 4, 5, 6]"
      ]
     },
     "execution_count": 38,
     "metadata": {},
     "output_type": "execute_result"
    }
   ],
   "source": [
    "a"
   ]
  },
  {
   "cell_type": "code",
   "execution_count": 39,
   "id": "2d5625e4",
   "metadata": {},
   "outputs": [],
   "source": [
    "a[0]=a[3:6]"
   ]
  },
  {
   "cell_type": "code",
   "execution_count": 40,
   "id": "5bb35135",
   "metadata": {},
   "outputs": [
    {
     "data": {
      "text/plain": [
       "[[4, 5, 6], 2, 3, 4, 5, 6]"
      ]
     },
     "execution_count": 40,
     "metadata": {},
     "output_type": "execute_result"
    }
   ],
   "source": [
    "a"
   ]
  },
  {
   "cell_type": "code",
   "execution_count": 41,
   "id": "8bc4f080",
   "metadata": {},
   "outputs": [],
   "source": [
    "photo[:,:,2]=+50"
   ]
  },
  {
   "cell_type": "code",
   "execution_count": 44,
   "id": "154bf4db",
   "metadata": {},
   "outputs": [],
   "source": [
    "cv2.imshow(\"my photo\",photo)\n",
    "cv2.waitKey()\n",
    "cv2.destroyAllWindows()"
   ]
  },
  {
   "cell_type": "code",
   "execution_count": 47,
   "id": "844e0e5f",
   "metadata": {},
   "outputs": [],
   "source": [
    "cap.release()"
   ]
  },
  {
   "cell_type": "code",
   "execution_count": null,
   "id": "f2a1232a",
   "metadata": {},
   "outputs": [],
   "source": []
  },
  {
   "cell_type": "code",
   "execution_count": null,
   "id": "4e3bb953",
   "metadata": {},
   "outputs": [],
   "source": []
  }
 ],
 "metadata": {
  "kernelspec": {
   "display_name": "Python 3 (ipykernel)",
   "language": "python",
   "name": "python3"
  },
  "language_info": {
   "codemirror_mode": {
    "name": "ipython",
    "version": 3
   },
   "file_extension": ".py",
   "mimetype": "text/x-python",
   "name": "python",
   "nbconvert_exporter": "python",
   "pygments_lexer": "ipython3",
   "version": "3.10.9"
  }
 },
 "nbformat": 4,
 "nbformat_minor": 5
}
